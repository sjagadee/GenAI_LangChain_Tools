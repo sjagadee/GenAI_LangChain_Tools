{
 "cells": [
  {
   "cell_type": "markdown",
   "id": "da360b80",
   "metadata": {},
   "source": [
    "### Tool Calling in LangChain"
   ]
  },
  {
   "cell_type": "code",
   "execution_count": 1,
   "id": "6cd50747",
   "metadata": {},
   "outputs": [],
   "source": [
    "from langchain_openai import ChatOpenAI\n",
    "from langchain_core.tools import tool\n",
    "from langchain_core.messages import HumanMessage\n",
    "import requests\n",
    "from dotenv import load_dotenv"
   ]
  },
  {
   "cell_type": "code",
   "execution_count": 2,
   "id": "06adfd05",
   "metadata": {},
   "outputs": [],
   "source": [
    "# tool creation\n",
    "@tool\n",
    "def multiply(x: int, y: int) -> int:\n",
    "    \"\"\"Given two numbers, multiply them and returns the product.\"\"\"\n",
    "    return x * y"
   ]
  },
  {
   "cell_type": "code",
   "execution_count": 3,
   "id": "083c13a6",
   "metadata": {},
   "outputs": [
    {
     "name": "stdout",
     "output_type": "stream",
     "text": [
      "6\n"
     ]
    }
   ],
   "source": [
    "print(multiply.invoke({\"x\": 2, \"y\": 3}))"
   ]
  },
  {
   "cell_type": "code",
   "execution_count": 4,
   "id": "aa291b21",
   "metadata": {},
   "outputs": [
    {
     "data": {
      "text/plain": [
       "'multiply'"
      ]
     },
     "execution_count": 4,
     "metadata": {},
     "output_type": "execute_result"
    }
   ],
   "source": [
    "multiply.name"
   ]
  },
  {
   "cell_type": "code",
   "execution_count": 5,
   "id": "dc12f558",
   "metadata": {},
   "outputs": [
    {
     "data": {
      "text/plain": [
       "'Given two numbers, multiply them and returns the product.'"
      ]
     },
     "execution_count": 5,
     "metadata": {},
     "output_type": "execute_result"
    }
   ],
   "source": [
    "multiply.description"
   ]
  },
  {
   "cell_type": "code",
   "execution_count": 6,
   "id": "02e8d27f",
   "metadata": {},
   "outputs": [
    {
     "data": {
      "text/plain": [
       "{'x': {'title': 'X', 'type': 'integer'},\n",
       " 'y': {'title': 'Y', 'type': 'integer'}}"
      ]
     },
     "execution_count": 6,
     "metadata": {},
     "output_type": "execute_result"
    }
   ],
   "source": [
    "multiply.args"
   ]
  },
  {
   "cell_type": "markdown",
   "id": "dc2878fe",
   "metadata": {},
   "source": [
    "#### Tool Binding"
   ]
  },
  {
   "cell_type": "code",
   "execution_count": 7,
   "id": "fe1b5bd2",
   "metadata": {},
   "outputs": [],
   "source": [
    "load_dotenv()\n",
    "llm = ChatOpenAI(temperature=0, model_name=\"gpt-3.5-turbo\")"
   ]
  },
  {
   "cell_type": "code",
   "execution_count": 8,
   "id": "cc9e856d",
   "metadata": {},
   "outputs": [],
   "source": [
    "llm_with_tools = llm.bind_tools([multiply])"
   ]
  },
  {
   "cell_type": "code",
   "execution_count": 9,
   "id": "472ddc8a",
   "metadata": {},
   "outputs": [
    {
     "data": {
      "text/plain": [
       "AIMessage(content=\"Hello! I'm here and ready to assist you. How can I help you today?\", additional_kwargs={'refusal': None}, response_metadata={'token_usage': {'completion_tokens': 19, 'prompt_tokens': 57, 'total_tokens': 76, 'completion_tokens_details': {'accepted_prediction_tokens': 0, 'audio_tokens': 0, 'reasoning_tokens': 0, 'rejected_prediction_tokens': 0}, 'prompt_tokens_details': {'audio_tokens': 0, 'cached_tokens': 0}}, 'model_name': 'gpt-3.5-turbo-0125', 'system_fingerprint': None, 'id': 'chatcmpl-CWVW6d38xvxoBrXv0tSaLI4ocCELy', 'service_tier': 'default', 'finish_reason': 'stop', 'logprobs': None}, id='run--4a1c76b7-f242-4a93-bb6b-8bc5b63985e1-0', usage_metadata={'input_tokens': 57, 'output_tokens': 19, 'total_tokens': 76, 'input_token_details': {'audio': 0, 'cache_read': 0}, 'output_token_details': {'audio': 0, 'reasoning': 0}})"
      ]
     },
     "execution_count": 9,
     "metadata": {},
     "output_type": "execute_result"
    }
   ],
   "source": [
    "llm_with_tools.invoke(\"Hi how are you?\")"
   ]
  },
  {
   "cell_type": "code",
   "execution_count": 12,
   "id": "5e8c3f81",
   "metadata": {},
   "outputs": [
    {
     "name": "stdout",
     "output_type": "stream",
     "text": [
      "content='' additional_kwargs={'tool_calls': [{'id': 'call_yjihF9FQd3t5Y94wmOvb8aXz', 'function': {'arguments': '{\"x\":2,\"y\":10}', 'name': 'multiply'}, 'type': 'function'}], 'refusal': None} response_metadata={'token_usage': {'completion_tokens': 17, 'prompt_tokens': 61, 'total_tokens': 78, 'completion_tokens_details': {'accepted_prediction_tokens': 0, 'audio_tokens': 0, 'reasoning_tokens': 0, 'rejected_prediction_tokens': 0}, 'prompt_tokens_details': {'audio_tokens': 0, 'cached_tokens': 0}}, 'model_name': 'gpt-3.5-turbo-0125', 'system_fingerprint': None, 'id': 'chatcmpl-CWVWudK97njhapR2uh4Tn93F26gZB', 'service_tier': 'default', 'finish_reason': 'tool_calls', 'logprobs': None} id='run--5cb9ee14-3504-4b53-8500-22ebe32baa2b-0' tool_calls=[{'name': 'multiply', 'args': {'x': 2, 'y': 10}, 'id': 'call_yjihF9FQd3t5Y94wmOvb8aXz', 'type': 'tool_call'}] usage_metadata={'input_tokens': 61, 'output_tokens': 17, 'total_tokens': 78, 'input_token_details': {'audio': 0, 'cache_read': 0}, 'output_token_details': {'audio': 0, 'reasoning': 0}}\n"
     ]
    }
   ],
   "source": [
    "output = llm_with_tools.invoke(\"can you multiply 2 and 10?\")\n",
    "\n",
    "print(output)"
   ]
  },
  {
   "cell_type": "code",
   "execution_count": 18,
   "id": "e827936b",
   "metadata": {},
   "outputs": [],
   "source": [
    "arguments = output.tool_calls[0]['args']"
   ]
  },
  {
   "cell_type": "code",
   "execution_count": null,
   "id": "616d0eb6",
   "metadata": {},
   "outputs": [
    {
     "data": {
      "text/plain": [
       "20"
      ]
     },
     "execution_count": 20,
     "metadata": {},
     "output_type": "execute_result"
    }
   ],
   "source": [
    "multiply.invoke(arguments) # this is the same as multiply.invoke({\"x\": 2, \"y\": 10}) \n",
    "\n",
    "# this gives just the result (in our case it is the product of 2 and 10)"
   ]
  },
  {
   "cell_type": "code",
   "execution_count": null,
   "id": "cc330e79",
   "metadata": {},
   "outputs": [
    {
     "data": {
      "text/plain": [
       "ToolMessage(content='20', name='multiply', tool_call_id='call_yjihF9FQd3t5Y94wmOvb8aXz')"
      ]
     },
     "execution_count": 21,
     "metadata": {},
     "output_type": "execute_result"
    }
   ],
   "source": [
    "# let us see what happens when we call the tool from the tool_call\n",
    "multiply.invoke(output.tool_calls[0])\n",
    "\n",
    "# this is nicely formatted in a ToolMessage"
   ]
  },
  {
   "cell_type": "code",
   "execution_count": null,
   "id": "6a64de99",
   "metadata": {},
   "outputs": [
    {
     "name": "stdout",
     "output_type": "stream",
     "text": [
      "[HumanMessage(content='can you multiply 2 and 10?', additional_kwargs={}, response_metadata={}), AIMessage(content='', additional_kwargs={'tool_calls': [{'id': 'call_gdm6XU6PCuFWISNgWOWKFqqp', 'function': {'arguments': '{\"x\":2,\"y\":10}', 'name': 'multiply'}, 'type': 'function'}], 'refusal': None}, response_metadata={'token_usage': {'completion_tokens': 17, 'prompt_tokens': 61, 'total_tokens': 78, 'completion_tokens_details': {'accepted_prediction_tokens': 0, 'audio_tokens': 0, 'reasoning_tokens': 0, 'rejected_prediction_tokens': 0}, 'prompt_tokens_details': {'audio_tokens': 0, 'cached_tokens': 0}}, 'model_name': 'gpt-3.5-turbo-0125', 'system_fingerprint': None, 'id': 'chatcmpl-CWVqzVxBlOKZgVTBZuOltIW53yrET', 'service_tier': 'default', 'finish_reason': 'tool_calls', 'logprobs': None}, id='run--ac815848-99ae-4033-a085-388cd2097147-0', tool_calls=[{'name': 'multiply', 'args': {'x': 2, 'y': 10}, 'id': 'call_gdm6XU6PCuFWISNgWOWKFqqp', 'type': 'tool_call'}], usage_metadata={'input_tokens': 61, 'output_tokens': 17, 'total_tokens': 78, 'input_token_details': {'audio': 0, 'cache_read': 0}, 'output_token_details': {'audio': 0, 'reasoning': 0}}), ToolMessage(content='20', name='multiply', tool_call_id='call_gdm6XU6PCuFWISNgWOWKFqqp')]\n"
     ]
    }
   ],
   "source": [
    "# let us organize the above steps better\n",
    "messages = []\n",
    "\n",
    "# setup the prompt for the LLM\n",
    "query = HumanMessage(content=\"can you multiply 2 and 10?\")\n",
    "\n",
    "# append the prompt\n",
    "messages.append(query)\n",
    "\n",
    "# invoke the LLM with the message\n",
    "output = llm_with_tools.invoke(messages)\n",
    "\n",
    "# append the output\n",
    "messages.append(output)\n",
    "\n",
    "# invoke the tool using the tool_call\n",
    "tool_result = multiply.invoke(output.tool_calls[0])\n",
    "\n",
    "# append the result\n",
    "messages.append(tool_result)\n",
    "\n",
    "print(messages)\n",
    "\n"
   ]
  },
  {
   "cell_type": "code",
   "execution_count": null,
   "id": "6b732fdc",
   "metadata": {},
   "outputs": [
    {
     "data": {
      "text/plain": [
       "'The product of 2 and 10 is 20.'"
      ]
     },
     "execution_count": 26,
     "metadata": {},
     "output_type": "execute_result"
    }
   ],
   "source": [
    "# invoke the LLM with all the messages at once \n",
    "llm_with_tools.invoke(messages).content"
   ]
  },
  {
   "cell_type": "code",
   "execution_count": null,
   "id": "5dfe5944",
   "metadata": {},
   "outputs": [],
   "source": []
  }
 ],
 "metadata": {
  "kernelspec": {
   "display_name": "for_genai",
   "language": "python",
   "name": "python3"
  },
  "language_info": {
   "codemirror_mode": {
    "name": "ipython",
    "version": 3
   },
   "file_extension": ".py",
   "mimetype": "text/x-python",
   "name": "python",
   "nbconvert_exporter": "python",
   "pygments_lexer": "ipython3",
   "version": "3.12.12"
  }
 },
 "nbformat": 4,
 "nbformat_minor": 5
}
