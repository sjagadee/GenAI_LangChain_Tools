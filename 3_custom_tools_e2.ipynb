{
 "cells": [
  {
   "cell_type": "markdown",
   "id": "3c6430b5",
   "metadata": {},
   "source": [
    "### Custom tools - using Structured Tool & Pydantic"
   ]
  },
  {
   "cell_type": "code",
   "execution_count": 1,
   "id": "1239b254",
   "metadata": {},
   "outputs": [],
   "source": [
    "from langchain.tools import StructuredTool\n",
    "from pydantic import BaseModel, Field"
   ]
  },
  {
   "cell_type": "code",
   "execution_count": 3,
   "id": "50420dfb",
   "metadata": {},
   "outputs": [],
   "source": [
    "class MultiplyInput(BaseModel):\n",
    "    x: int = Field(json_schema_extra={\"required\":True}, description=\"The first number to multiply\")\n",
    "    y: int = Field(json_schema_extra={\"required\":True}, description=\"The second number to multiply\")"
   ]
  },
  {
   "cell_type": "code",
   "execution_count": 4,
   "id": "75bf4ff9",
   "metadata": {},
   "outputs": [],
   "source": [
    "def multiply_func(x: int, y: int) -> int:\n",
    "    return x * y"
   ]
  },
  {
   "cell_type": "code",
   "execution_count": 5,
   "id": "c92a3471",
   "metadata": {},
   "outputs": [],
   "source": [
    "multiply_tool = StructuredTool.from_function(\n",
    "    func=multiply_func,\n",
    "    name=\"Multiply\",\n",
    "    description=\"Use this tool when you want to multiply two numbers.\",\n",
    "    args_schema=MultiplyInput\n",
    ")"
   ]
  },
  {
   "cell_type": "code",
   "execution_count": 8,
   "id": "bd3c8131",
   "metadata": {},
   "outputs": [
    {
     "name": "stdout",
     "output_type": "stream",
     "text": [
      "6\n",
      "Multiply\n",
      "Use this tool when you want to multiply two numbers.\n",
      "{'x': {'description': 'The first number to multiply', 'required': True, 'title': 'X', 'type': 'integer'}, 'y': {'description': 'The second number to multiply', 'required': True, 'title': 'Y', 'type': 'integer'}}\n"
     ]
    }
   ],
   "source": [
    "result = multiply_tool.invoke({\"x\": 2, \"y\": 3})\n",
    "\n",
    "print(result)\n",
    "print(multiply_tool.name)\n",
    "print(multiply_tool.description)\n",
    "print(multiply_tool.args)"
   ]
  },
  {
   "cell_type": "code",
   "execution_count": null,
   "id": "3aa7168c",
   "metadata": {},
   "outputs": [],
   "source": []
  }
 ],
 "metadata": {
  "kernelspec": {
   "display_name": "for_genai",
   "language": "python",
   "name": "python3"
  },
  "language_info": {
   "codemirror_mode": {
    "name": "ipython",
    "version": 3
   },
   "file_extension": ".py",
   "mimetype": "text/x-python",
   "name": "python",
   "nbconvert_exporter": "python",
   "pygments_lexer": "ipython3",
   "version": "3.12.12"
  }
 },
 "nbformat": 4,
 "nbformat_minor": 5
}
