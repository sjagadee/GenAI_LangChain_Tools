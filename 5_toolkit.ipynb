{
 "cells": [
  {
   "cell_type": "markdown",
   "id": "81d959c2",
   "metadata": {},
   "source": [
    "### Toolkit example - set of tools"
   ]
  },
  {
   "cell_type": "code",
   "execution_count": 1,
   "id": "148d1185",
   "metadata": {},
   "outputs": [],
   "source": [
    "from langchain.tools import tool"
   ]
  },
  {
   "cell_type": "code",
   "execution_count": 3,
   "id": "42209b03",
   "metadata": {},
   "outputs": [],
   "source": [
    "# custom tools\n",
    "\n",
    "@tool\n",
    "def add_two_numbers(x: int, y: int) -> int:\n",
    "    \"\"\"Add two numbers.\"\"\"\n",
    "    return x + y\n",
    "\n",
    "@tool\n",
    "def subtract_two_numbers(x: int, y: int) -> int:\n",
    "    \"\"\"Subtract two numbers.\"\"\"\n",
    "    return x - y\n",
    "\n",
    "@tool\n",
    "def multiply_two_numbers(x: int, y: int) -> int:\n",
    "    \"\"\"Multiply two numbers.\"\"\"\n",
    "    return x * y\n"
   ]
  },
  {
   "cell_type": "code",
   "execution_count": 4,
   "id": "eee85eb3",
   "metadata": {},
   "outputs": [],
   "source": [
    "class CalculatorToolKit:\n",
    "    def get_tools(self):\n",
    "        return [\n",
    "            add_two_numbers,\n",
    "            subtract_two_numbers,\n",
    "            multiply_two_numbers\n",
    "        ]"
   ]
  },
  {
   "cell_type": "code",
   "execution_count": 5,
   "id": "cf7f797e",
   "metadata": {},
   "outputs": [
    {
     "name": "stdout",
     "output_type": "stream",
     "text": [
      "add_two_numbers\n",
      "Add two numbers.\n",
      "{'x': {'title': 'X', 'type': 'integer'}, 'y': {'title': 'Y', 'type': 'integer'}}\n",
      "subtract_two_numbers\n",
      "Subtract two numbers.\n",
      "{'x': {'title': 'X', 'type': 'integer'}, 'y': {'title': 'Y', 'type': 'integer'}}\n",
      "multiply_two_numbers\n",
      "Multiply two numbers.\n",
      "{'x': {'title': 'X', 'type': 'integer'}, 'y': {'title': 'Y', 'type': 'integer'}}\n"
     ]
    }
   ],
   "source": [
    "calculator_toolkit = CalculatorToolKit()\n",
    "\n",
    "tools = calculator_toolkit.get_tools()\n",
    "\n",
    "for tool in tools:\n",
    "    print(tool.name)\n",
    "    print(tool.description)\n",
    "    print(tool.args)"
   ]
  },
  {
   "cell_type": "code",
   "execution_count": null,
   "id": "806a6689",
   "metadata": {},
   "outputs": [],
   "source": []
  }
 ],
 "metadata": {
  "kernelspec": {
   "display_name": "for_genai",
   "language": "python",
   "name": "python3"
  },
  "language_info": {
   "codemirror_mode": {
    "name": "ipython",
    "version": 3
   },
   "file_extension": ".py",
   "mimetype": "text/x-python",
   "name": "python",
   "nbconvert_exporter": "python",
   "pygments_lexer": "ipython3",
   "version": "3.12.12"
  }
 },
 "nbformat": 4,
 "nbformat_minor": 5
}
