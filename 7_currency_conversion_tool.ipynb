{
 "cells": [
  {
   "cell_type": "markdown",
   "id": "d8941846",
   "metadata": {},
   "source": [
    "### Currency Conversion Tool"
   ]
  },
  {
   "cell_type": "code",
   "execution_count": 1,
   "id": "377ea0ea",
   "metadata": {},
   "outputs": [],
   "source": [
    "from langchain_openai import ChatOpenAI\n",
    "from langchain_core.tools import tool, InjectedToolArg\n",
    "from langchain_core.messages import HumanMessage\n",
    "from typing import Annotated\n",
    "import requests\n",
    "from dotenv import load_dotenv"
   ]
  },
  {
   "cell_type": "code",
   "execution_count": 2,
   "id": "677a932e",
   "metadata": {},
   "outputs": [],
   "source": [
    "# tool creation - currency conversion \n",
    "\n",
    "@tool\n",
    "def get_conversion_factor(base_currency: str, target_currency: str) -> float:\n",
    "    \"\"\"This tool returns the conversion factor from one currency to another.\"\"\"\n",
    "    url = f\"https://v6.exchangerate-api.com/v6/1a8d353e882a0e61bf06d928/pair/{base_currency}/{target_currency}\"\n",
    "    response = requests.get(url)\n",
    "    return response.json()\n",
    "    "
   ]
  },
  {
   "cell_type": "code",
   "execution_count": 3,
   "id": "9256e90b",
   "metadata": {},
   "outputs": [],
   "source": [
    "# tool for currency calculation:\n",
    "# Annotated[float, InjectedToolArg] = Developer will specify the argument for conversion_rate during runtime\n",
    "\n",
    "@tool\n",
    "def calculate_currency_amount(amount: float, conversion_rate: Annotated[float, InjectedToolArg]) -> float:\n",
    "    \"\"\"This tool returns the converted currency amount based on the conversion rate and the input amount.\"\"\"\n",
    "    converted_amount = amount * conversion_rate\n",
    "    return converted_amount"
   ]
  },
  {
   "cell_type": "code",
   "execution_count": 4,
   "id": "5ed5ea46",
   "metadata": {},
   "outputs": [
    {
     "data": {
      "text/plain": [
       "{'result': 'success',\n",
       " 'documentation': 'https://www.exchangerate-api.com/docs',\n",
       " 'terms_of_use': 'https://www.exchangerate-api.com/terms',\n",
       " 'time_last_update_unix': 1761868802,\n",
       " 'time_last_update_utc': 'Fri, 31 Oct 2025 00:00:02 +0000',\n",
       " 'time_next_update_unix': 1761955202,\n",
       " 'time_next_update_utc': 'Sat, 01 Nov 2025 00:00:02 +0000',\n",
       " 'base_code': 'USD',\n",
       " 'target_code': 'EUR',\n",
       " 'conversion_rate': 0.8635}"
      ]
     },
     "execution_count": 4,
     "metadata": {},
     "output_type": "execute_result"
    }
   ],
   "source": [
    "get_conversion_factor.invoke({\"base_currency\":\"USD\", \"target_currency\":\"EUR\"})"
   ]
  },
  {
   "cell_type": "code",
   "execution_count": 5,
   "id": "e1d1d7c3",
   "metadata": {},
   "outputs": [
    {
     "data": {
      "text/plain": [
       "86.04"
      ]
     },
     "execution_count": 5,
     "metadata": {},
     "output_type": "execute_result"
    }
   ],
   "source": [
    "calculate_currency_amount.invoke({\"amount\": 100, \"conversion_rate\": 0.8604})"
   ]
  },
  {
   "cell_type": "code",
   "execution_count": 6,
   "id": "e375a2de",
   "metadata": {},
   "outputs": [],
   "source": [
    "# tool binding steps\n",
    "\n",
    "tools = [\n",
    "    get_conversion_factor,\n",
    "    calculate_currency_amount\n",
    "]\n",
    "\n",
    "load_dotenv()\n",
    "\n",
    "llm = ChatOpenAI(model_name=\"gpt-3.5-turbo\", temperature=0)\n",
    "\n",
    "llm_with_tools = llm.bind_tools(tools)\n"
   ]
  },
  {
   "cell_type": "code",
   "execution_count": 7,
   "id": "a41b9782",
   "metadata": {},
   "outputs": [
    {
     "name": "stdout",
     "output_type": "stream",
     "text": [
      "[{'name': 'get_conversion_factor', 'args': {'base_currency': 'USD', 'target_currency': 'EUR'}, 'id': 'call_xJZ0vZGhBi9c2PmSbDFqFABm', 'type': 'tool_call'}, {'name': 'calculate_currency_amount', 'args': {'amount': 100}, 'id': 'call_bxE0Nam8yCdpG8iwGGIENEGI', 'type': 'tool_call'}]\n"
     ]
    }
   ],
   "source": [
    "# tool calling steps\n",
    "\n",
    "messages = [\n",
    "    HumanMessage(content=\"What is the conversion rate from USD to EUR? And how much is 100 USD in EUR?\")\n",
    "]\n",
    "\n",
    "output = llm_with_tools.invoke(messages)\n",
    "\n",
    "messages.append(output)\n",
    "print(output.tool_calls)   "
   ]
  },
  {
   "cell_type": "code",
   "execution_count": 8,
   "id": "8f60bfbe",
   "metadata": {},
   "outputs": [
    {
     "name": "stdout",
     "output_type": "stream",
     "text": [
      "content='{\"result\": \"success\", \"documentation\": \"https://www.exchangerate-api.com/docs\", \"terms_of_use\": \"https://www.exchangerate-api.com/terms\", \"time_last_update_unix\": 1761868802, \"time_last_update_utc\": \"Fri, 31 Oct 2025 00:00:02 +0000\", \"time_next_update_unix\": 1761955202, \"time_next_update_utc\": \"Sat, 01 Nov 2025 00:00:02 +0000\", \"base_code\": \"USD\", \"target_code\": \"EUR\", \"conversion_rate\": 0.8635}' name='get_conversion_factor' tool_call_id='call_xJZ0vZGhBi9c2PmSbDFqFABm'\n",
      "content='86.35000000000001' name='calculate_currency_amount' tool_call_id='call_bxE0Nam8yCdpG8iwGGIENEGI'\n",
      "[HumanMessage(content='What is the conversion rate from USD to EUR? And how much is 100 USD in EUR?', additional_kwargs={}, response_metadata={}), AIMessage(content='', additional_kwargs={'tool_calls': [{'id': 'call_xJZ0vZGhBi9c2PmSbDFqFABm', 'function': {'arguments': '{\"base_currency\": \"USD\", \"target_currency\": \"EUR\"}', 'name': 'get_conversion_factor'}, 'type': 'function'}, {'id': 'call_bxE0Nam8yCdpG8iwGGIENEGI', 'function': {'arguments': '{\"amount\": 100}', 'name': 'calculate_currency_amount'}, 'type': 'function'}], 'refusal': None}, response_metadata={'token_usage': {'completion_tokens': 51, 'prompt_tokens': 110, 'total_tokens': 161, 'completion_tokens_details': {'accepted_prediction_tokens': 0, 'audio_tokens': 0, 'reasoning_tokens': 0, 'rejected_prediction_tokens': 0}, 'prompt_tokens_details': {'audio_tokens': 0, 'cached_tokens': 0}}, 'model_name': 'gpt-3.5-turbo-0125', 'system_fingerprint': None, 'id': 'chatcmpl-CWWsOzuWfMrxebXaAbp0QZ0ZcgNxq', 'service_tier': 'default', 'finish_reason': 'tool_calls', 'logprobs': None}, id='run--ebaf53af-a5b7-442b-bbab-5ca614160088-0', tool_calls=[{'name': 'get_conversion_factor', 'args': {'base_currency': 'USD', 'target_currency': 'EUR'}, 'id': 'call_xJZ0vZGhBi9c2PmSbDFqFABm', 'type': 'tool_call'}, {'name': 'calculate_currency_amount', 'args': {'amount': 100, 'conversion_rate': 0.8635}, 'id': 'call_bxE0Nam8yCdpG8iwGGIENEGI', 'type': 'tool_call'}], usage_metadata={'input_tokens': 110, 'output_tokens': 51, 'total_tokens': 161, 'input_token_details': {'audio': 0, 'cache_read': 0}, 'output_token_details': {'audio': 0, 'reasoning': 0}}), ToolMessage(content='{\"result\": \"success\", \"documentation\": \"https://www.exchangerate-api.com/docs\", \"terms_of_use\": \"https://www.exchangerate-api.com/terms\", \"time_last_update_unix\": 1761868802, \"time_last_update_utc\": \"Fri, 31 Oct 2025 00:00:02 +0000\", \"time_next_update_unix\": 1761955202, \"time_next_update_utc\": \"Sat, 01 Nov 2025 00:00:02 +0000\", \"base_code\": \"USD\", \"target_code\": \"EUR\", \"conversion_rate\": 0.8635}', name='get_conversion_factor', tool_call_id='call_xJZ0vZGhBi9c2PmSbDFqFABm'), ToolMessage(content='86.35000000000001', name='calculate_currency_amount', tool_call_id='call_bxE0Nam8yCdpG8iwGGIENEGI')]\n"
     ]
    }
   ],
   "source": [
    "import json\n",
    "\n",
    "for tool_call in output.tool_calls:\n",
    "    # execute the first tool and get the conversion rate\n",
    "    if tool_call[\"name\"] == \"get_conversion_factor\":\n",
    "        tool_message_1 = get_conversion_factor.invoke(tool_call)\n",
    "        print(tool_message_1)\n",
    "        # fetch conversion rate from the response\n",
    "        conversion_rate = json.loads(tool_message_1.content)[\"conversion_rate\"]\n",
    "\n",
    "        # append the tool_message_1 to messages\n",
    "        messages.append(tool_message_1)\n",
    "\n",
    "    if tool_call[\"name\"] == \"calculate_currency_amount\":\n",
    "        # first add the conversion rate to the tool_call\n",
    "        tool_call[\"args\"][\"conversion_rate\"] = conversion_rate\n",
    "        # execute the second tool and get the converted amount\n",
    "        tool_message_2 = calculate_currency_amount.invoke(tool_call)\n",
    "        print(tool_message_2)\n",
    "\n",
    "        # append the tool_message_2 to messages\n",
    "        messages.append(tool_message_2)\n",
    "\n",
    "print(messages)"
   ]
  },
  {
   "cell_type": "code",
   "execution_count": 9,
   "id": "450f7c6a",
   "metadata": {},
   "outputs": [
    {
     "data": {
      "text/plain": [
       "'The conversion rate from USD to EUR is 0.8635. \\n\\nTherefore, 100 USD is equivalent to 86.35 EUR.'"
      ]
     },
     "execution_count": 9,
     "metadata": {},
     "output_type": "execute_result"
    }
   ],
   "source": [
    "llm_with_tools.invoke(messages).content"
   ]
  },
  {
   "cell_type": "code",
   "execution_count": null,
   "id": "80cc689b",
   "metadata": {},
   "outputs": [],
   "source": []
  }
 ],
 "metadata": {
  "kernelspec": {
   "display_name": "for_genai",
   "language": "python",
   "name": "python3"
  },
  "language_info": {
   "codemirror_mode": {
    "name": "ipython",
    "version": 3
   },
   "file_extension": ".py",
   "mimetype": "text/x-python",
   "name": "python",
   "nbconvert_exporter": "python",
   "pygments_lexer": "ipython3",
   "version": "3.12.12"
  }
 },
 "nbformat": 4,
 "nbformat_minor": 5
}
