{
 "cells": [
  {
   "cell_type": "markdown",
   "id": "2cf7ae22",
   "metadata": {},
   "source": [
    "### Custom tools - using @tool decorator"
   ]
  },
  {
   "cell_type": "markdown",
   "id": "6ae275bf",
   "metadata": {},
   "source": [
    "To create a custom tool need to follow 3 steps:\n",
    "- Create a function (with docstring - recommended )\n",
    "- Add type hints to the function parameters and return type (recommended)\n",
    "- Add tool decorator"
   ]
  },
  {
   "cell_type": "code",
   "execution_count": 5,
   "id": "26fc992f",
   "metadata": {},
   "outputs": [],
   "source": [
    "from langchain.tools import tool"
   ]
  },
  {
   "cell_type": "code",
   "execution_count": 6,
   "id": "7982f33f",
   "metadata": {},
   "outputs": [],
   "source": [
    "# create a function\n",
    "def multiply(x, y):\n",
    "    \"\"\"Multiplies two numbers\"\"\"\n",
    "    return x * y"
   ]
  },
  {
   "cell_type": "code",
   "execution_count": 7,
   "id": "4d3b2e35",
   "metadata": {},
   "outputs": [],
   "source": [
    "# add type hinting\n",
    "def multiply(x: int, y: int) -> int:\n",
    "    \"\"\"Multiplies two numbers\"\"\"\n",
    "    return x * y"
   ]
  },
  {
   "cell_type": "code",
   "execution_count": 8,
   "id": "5a63b437",
   "metadata": {},
   "outputs": [],
   "source": [
    "# add tool decorator\n",
    "@tool\n",
    "def multiply(x: int, y: int) -> int:\n",
    "    \"\"\"Multiplies two numbers\"\"\"\n",
    "    return x * y"
   ]
  },
  {
   "cell_type": "code",
   "execution_count": 11,
   "id": "e53fa551",
   "metadata": {},
   "outputs": [
    {
     "name": "stdout",
     "output_type": "stream",
     "text": [
      "6\n"
     ]
    }
   ],
   "source": [
    "result = multiply.invoke({\"x\": 2, \"y\": 3})\n",
    "print(result)"
   ]
  },
  {
   "cell_type": "code",
   "execution_count": 15,
   "id": "fd74a2d0",
   "metadata": {},
   "outputs": [
    {
     "name": "stdout",
     "output_type": "stream",
     "text": [
      "multiply\n",
      "Multiplies two numbers\n",
      "{'x': {'title': 'X', 'type': 'integer'}, 'y': {'title': 'Y', 'type': 'integer'}}\n"
     ]
    }
   ],
   "source": [
    "print(multiply.name)\n",
    "print(multiply.description)\n",
    "print(multiply.args)"
   ]
  },
  {
   "cell_type": "code",
   "execution_count": null,
   "id": "e83cf561",
   "metadata": {},
   "outputs": [],
   "source": []
  }
 ],
 "metadata": {
  "kernelspec": {
   "display_name": "for_genai",
   "language": "python",
   "name": "python3"
  },
  "language_info": {
   "codemirror_mode": {
    "name": "ipython",
    "version": 3
   },
   "file_extension": ".py",
   "mimetype": "text/x-python",
   "name": "python",
   "nbconvert_exporter": "python",
   "pygments_lexer": "ipython3",
   "version": "3.12.12"
  }
 },
 "nbformat": 4,
 "nbformat_minor": 5
}
