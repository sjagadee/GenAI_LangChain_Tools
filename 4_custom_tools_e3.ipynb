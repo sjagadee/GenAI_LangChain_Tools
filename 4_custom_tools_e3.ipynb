{
 "cells": [
  {
   "cell_type": "markdown",
   "id": "3b5978ea",
   "metadata": {},
   "source": [
    "### Custom Tools - using BaseTool Class"
   ]
  },
  {
   "cell_type": "code",
   "execution_count": 2,
   "id": "ec91f922",
   "metadata": {},
   "outputs": [],
   "source": [
    "from langchain.tools import BaseTool\n",
    "from typing import Type\n",
    "from pydantic import BaseModel, Field"
   ]
  },
  {
   "cell_type": "code",
   "execution_count": 3,
   "id": "ed0205e4",
   "metadata": {},
   "outputs": [],
   "source": [
    "class MultiplyInput(BaseModel):\n",
    "    x: int = Field(json_schema_extra={\"required\":True}, description=\"The first number to multiply\")\n",
    "    y: int = Field(json_schema_extra={\"required\":True}, description=\"The second number to multiply\")"
   ]
  },
  {
   "cell_type": "code",
   "execution_count": 6,
   "id": "e8f2846f",
   "metadata": {},
   "outputs": [],
   "source": [
    "class MultiplyTool(BaseTool):\n",
    "    name: str = \"Multiply\"\n",
    "    description: str = \"Use this tool when you want to multiply two numbers.\"\n",
    "    args_schema: Type[BaseModel] = MultiplyInput\n",
    "\n",
    "    def _run(self, x: int, y: int) -> int:\n",
    "        return x * y"
   ]
  },
  {
   "cell_type": "code",
   "execution_count": 7,
   "id": "419e6945",
   "metadata": {},
   "outputs": [],
   "source": [
    "multiply_tool = MultiplyTool()"
   ]
  },
  {
   "cell_type": "code",
   "execution_count": 10,
   "id": "83fb8fd0",
   "metadata": {},
   "outputs": [
    {
     "name": "stdout",
     "output_type": "stream",
     "text": [
      "6\n",
      "Multiply\n",
      "Use this tool when you want to multiply two numbers.\n",
      "{'x': {'description': 'The first number to multiply', 'required': True, 'title': 'X', 'type': 'integer'}, 'y': {'description': 'The second number to multiply', 'required': True, 'title': 'Y', 'type': 'integer'}}\n"
     ]
    }
   ],
   "source": [
    "result = multiply_tool.invoke({\"x\": 2, \"y\": 3})\n",
    "print(result)\n",
    "print(multiply_tool.name)\n",
    "print(multiply_tool.description)\n",
    "print(multiply_tool.args)"
   ]
  },
  {
   "cell_type": "code",
   "execution_count": null,
   "id": "c07f36f1",
   "metadata": {},
   "outputs": [],
   "source": []
  }
 ],
 "metadata": {
  "kernelspec": {
   "display_name": "for_genai",
   "language": "python",
   "name": "python3"
  },
  "language_info": {
   "codemirror_mode": {
    "name": "ipython",
    "version": 3
   },
   "file_extension": ".py",
   "mimetype": "text/x-python",
   "name": "python",
   "nbconvert_exporter": "python",
   "pygments_lexer": "ipython3",
   "version": "3.12.12"
  }
 },
 "nbformat": 4,
 "nbformat_minor": 5
}
