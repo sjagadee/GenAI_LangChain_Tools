{
 "cells": [
  {
   "cell_type": "markdown",
   "id": "1b3e35dd",
   "metadata": {},
   "source": [
    "### Built In tools - DuckDuckGo Search"
   ]
  },
  {
   "cell_type": "code",
   "execution_count": 2,
   "id": "bda4dffc",
   "metadata": {},
   "outputs": [
    {
     "name": "stdout",
     "output_type": "stream",
     "text": [
      "IPL 2025: Get IPL 2025 News on Crickit.. Check IPL latest updates, IPL Match schedule, venue, Team, Player detailed stats along with IPL Points table, fixtures and match results. IPL News Today The official IPL website with live scores, match updates, team rankings, all the latest news , and videos . Scores. News .RR vs CSK, IPL 2025: As it happened. Nitish Rana smashed a sensational 81 off just 36 balls, playing a pivotal role in helping Rajasthan Royals reach a total of 182 in 20 overs. IPL Trending News . IPL 2025 Schedule: Full List of Matches, Fixtures, Dates, Venues, and Timings. IPL 2025 Points Table - Check out the latest IPL league points table with team rankings, points, matches won, net run rate, wins, and updated team standings on CricTracker.\n"
     ]
    }
   ],
   "source": [
    "from langchain_community.tools import DuckDuckGoSearchRun\n",
    "\n",
    "search_tool = DuckDuckGoSearchRun()\n",
    "\n",
    "results = search_tool.invoke(\"IPL news\")\n",
    "\n",
    "print(results)"
   ]
  },
  {
   "cell_type": "markdown",
   "id": "bb0f5a63",
   "metadata": {},
   "source": [
    "### Built In tools - Shell tools"
   ]
  },
  {
   "cell_type": "code",
   "execution_count": 5,
   "id": "ace9749a",
   "metadata": {},
   "outputs": [
    {
     "name": "stdout",
     "output_type": "stream",
     "text": [
      "Executing command:\n",
      " ls\n",
      "1_tools_example.ipynb\n",
      "environment.yml\n",
      "\n"
     ]
    },
    {
     "name": "stderr",
     "output_type": "stream",
     "text": [
      "/opt/anaconda3/envs/for_genai/lib/python3.12/site-packages/langchain_community/tools/shell/tool.py:33: UserWarning: The shell tool has no safeguards by default. Use at your own risk.\n",
      "  warnings.warn(\n"
     ]
    }
   ],
   "source": [
    "from langchain_community.tools import ShellTool\n",
    "\n",
    "shell_tool = ShellTool()\n",
    "\n",
    "results = shell_tool.invoke(\"ls\")\n",
    "\n",
    "print(results)"
   ]
  },
  {
   "cell_type": "code",
   "execution_count": null,
   "id": "6a482fb4",
   "metadata": {},
   "outputs": [],
   "source": []
  }
 ],
 "metadata": {
  "kernelspec": {
   "display_name": "for_genai",
   "language": "python",
   "name": "python3"
  },
  "language_info": {
   "codemirror_mode": {
    "name": "ipython",
    "version": 3
   },
   "file_extension": ".py",
   "mimetype": "text/x-python",
   "name": "python",
   "nbconvert_exporter": "python",
   "pygments_lexer": "ipython3",
   "version": "3.12.12"
  }
 },
 "nbformat": 4,
 "nbformat_minor": 5
}
